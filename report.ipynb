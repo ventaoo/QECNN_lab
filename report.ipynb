{
 "cells": [
  {
   "cell_type": "markdown",
   "metadata": {},
   "source": [
    "#### Учебный проект, посвященный улучшению качества сжатых изображений при помощи нейронных сетей (модель QECNN)"
   ]
  },
  {
   "cell_type": "markdown",
   "metadata": {},
   "source": [
    "##### Описание задания к лабораторной работе\n",
    "- Улучшить QECNN модель так, чтобы модифицированная версия:\n",
    "\n",
    "- выиграла на 100 изображения из файла BSD 500 test.yuv в среднем 0.2 дБ и более по метрике PSNR;\n",
    "Требования к реализации и результаты:\n",
    "\n",
    "- При обучении должны использоваться только изображения из папки файла BSD500train.yuv\n",
    "Построить график функции PSNR/номер изображения для исходной и модифицированной моделей\n"
   ]
  },
  {
   "cell_type": "markdown",
   "metadata": {},
   "source": [
    "ФИО студента: `Чжу Вэньтао`\n",
    "\n",
    "номер группы: `M4145`"
   ]
  },
  {
   "cell_type": "markdown",
   "metadata": {},
   "source": [
    "##### Описание предложенной модификации"
   ]
  },
  {
   "cell_type": "markdown",
   "metadata": {},
   "source": [
    "Использование `Dilated Convolution` может эффективно повысить производительность моделей обработки изображений, особенно когда целью является улучшение показателей (таких как PSNR).\n",
    "\n",
    "Восприимчивое поле расширяется за счет введения пустот (скачкообразных соединений) внутри сверточного ядра, при этом объем вычислений и параметры остаются неизменными.Его характеристики заключаются в следующем：\n",
    "\n",
    "- Расширение сенсорного поля: Полая свертка позволяет расширить контекстную информацию на каждом уровне восприятия без увеличения глубины сети или количества параметров, позволяя сети моделировать более широкий спектр характеристик изображения.\n",
    "- Сохранение разрешения: В отличие от операций объединения, полая свертка не снижает разрешение карты объектов, поэтому она имеет больше преимуществ при восстановлении изображений (таких как снижение уровня шума и сверхразрешение)."
   ]
  },
  {
   "cell_type": "markdown",
   "metadata": {},
   "source": [
    "##### Различия в коде\n",
    "\n",
    "```python\n",
    "# 第二个卷积块\n",
    "conv_2 = layers.Conv2D(filters=64, kernel_size=(7, 7), padding=\"same\", name='conv_2')(conv_1)\n",
    "conv_2 = layers.PReLU(shared_axes=[1, 2], name='prelu_2')(conv_2)\n",
    "\n",
    "# 使用空洞卷积来增大感受野\n",
    "conv_3 = layers.Conv2D(filters=64, kernel_size=(3, 3), padding=\"same\", dilation_rate=2, name='conv_3')(conv_2)\n",
    "conv_3 = layers.PReLU(shared_axes=[1, 2], name='prelu_3')(conv_3)\n",
    "```"
   ]
  },
  {
   "cell_type": "markdown",
   "metadata": {},
   "source": [
    "![Dilated Convolution](https://paddlepedia.readthedocs.io/en/latest/_images/Dilated_Convolution_Receptive_Field.png)"
   ]
  },
  {
   "cell_type": "markdown",
   "metadata": {},
   "source": [
    "#### результаты"
   ]
  },
  {
   "cell_type": "markdown",
   "metadata": {},
   "source": [
    "`Модифицированная модель прошла три этапа обучения, и индекс psnr окончательной модели на тестовом наборе выше, чем у исходной модели.`"
   ]
  },
  {
   "cell_type": "markdown",
   "metadata": {},
   "source": [
    "Показатели, приведенные в хранилище github, соответствуют среднему значению psnr из 20 данных в тестовом наборе. В то же время, такой же тест был проведен на конечной модели. Конечный результат выглядит следующим образом\n",
    "- На рисунке 1 показана модифицированная модель, а на рисунке 2 - исходная модель - `psnr 25.20 -> 25.24`\n",
    "\n",
    "![alt text](Figure_1_20_bestweights.png)\n",
    "\n",
    "\n",
    "![alt text](https://github.com/ventaoo/QECNN_lab/raw/main/doc/Figure_1.png)"
   ]
  },
  {
   "cell_type": "markdown",
   "metadata": {},
   "source": [
    "То же самое было также протестировано на 100 тестовых данных, и соответствующие показатели psnr являются следующими\n",
    "\n",
    "- На рисунке 1 показана модифицированная модель, а на рисунке 2 - исходная модель - `psnr 24.61 -> 24.64`\n",
    "\n",
    "![alt text](Figure_1_100_bestweights.png)\n",
    "\n",
    "![alt text](Figure_1_100_defaultweight.png)"
   ]
  },
  {
   "cell_type": "markdown",
   "metadata": {},
   "source": [
    "##### несколико примеров\n",
    "\n",
    "![alt text](Figure_1.png)\n",
    "\n",
    "![alt text](Figure_2.png)\n",
    "\n",
    "![alt text](Figure_3.png)"
   ]
  },
  {
   "cell_type": "markdown",
   "metadata": {},
   "source": [
    "##### Ссылку на репозиторий\n",
    "\n",
    "`https://github.com/ventaoo/QECNN_lab`"
   ]
  }
 ],
 "metadata": {
  "kernelspec": {
   "display_name": "info-coding",
   "language": "python",
   "name": "python3"
  },
  "language_info": {
   "codemirror_mode": {
    "name": "ipython",
    "version": 3
   },
   "file_extension": ".py",
   "mimetype": "text/x-python",
   "name": "python",
   "nbconvert_exporter": "python",
   "pygments_lexer": "ipython3",
   "version": "3.11.0"
  }
 },
 "nbformat": 4,
 "nbformat_minor": 2
}
